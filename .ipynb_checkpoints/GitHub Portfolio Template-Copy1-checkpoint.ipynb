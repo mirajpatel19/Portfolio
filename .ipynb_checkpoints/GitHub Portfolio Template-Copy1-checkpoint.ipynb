{
 "cells": [
  {
   "cell_type": "markdown",
   "metadata": {},
   "source": [
    "# Miraj Patel Portfolio\n",
    "\n",
    "This portfolio is a compilation of notebooks which I created for data analysis or for exploration of machine learning algorithms. A separate category is for separate projects.\n",
    "\n",
    "## Category Title\n",
    "\n",
    "### Project 1 name\n",
    "\n",
    "[Jupyter Notebook](https://github.com/Erlemar/Erlemar.github.io/blob/master/Notebooks/Card_activation.ipynb)\n",
    "\n",
    "Summary of it.\n",
    "\n",
    "### Project 2 name\n",
    "\n",
    "[Jupyter Notebook](https://github.com/Erlemar/Erlemar.github.io/blob/master/Notebooks/Card_activation.ipynb)\n",
    "\n",
    "Summary of it.\n",
    "\n",
    "## Kaggle competitions. - EXAMPLE \n",
    "\n",
    "### Avito demand prediction\n",
    "\n",
    "[Avito demand prediction](https://www.kaggle.com/c/avito-demand-prediction) was a competition on Kaggle where we tried to predict something like demand based on ads content. This competition was very interesting because it had tabular data, texts and images. On the other hand this was the reason the competition was quite difficult. My team reached 131th place and got bronze medal! Here is a [link](https://github.com/Erlemar/Avito_demand_prediction_2018) to my solution.\n",
    "\n",
    "### Categorization of purchases\n",
    "\n",
    "[This](https://www.kaggle.com/c/receipt-categorisation) was a Russian inclass Kaggle competition in the third session of ODS ml course. It sounded interesting and I took part in it reaching a 3rd place. [Here](https://www.kaggle.com/artgor/3rd-place-solution) is my kaggle kernel with a solution.\n"
   ]
  },
  {
   "cell_type": "code",
   "execution_count": null,
   "metadata": {},
   "outputs": [],
   "source": []
  }
 ],
 "metadata": {
  "kernelspec": {
   "display_name": "Python 3",
   "language": "python",
   "name": "python3"
  },
  "language_info": {
   "codemirror_mode": {
    "name": "ipython",
    "version": 3
   },
   "file_extension": ".py",
   "mimetype": "text/x-python",
   "name": "python",
   "nbconvert_exporter": "python",
   "pygments_lexer": "ipython3",
   "version": "3.6.7"
  }
 },
 "nbformat": 4,
 "nbformat_minor": 2
}
