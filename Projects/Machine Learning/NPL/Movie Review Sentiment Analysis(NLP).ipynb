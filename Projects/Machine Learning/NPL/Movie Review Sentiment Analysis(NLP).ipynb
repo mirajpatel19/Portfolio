{
 "cells": [
  {
   "cell_type": "code",
   "execution_count": 1,
   "metadata": {},
   "outputs": [
    {
     "name": "stdout",
     "output_type": "stream",
     "text": [
      "              precision    recall  f1-score   support\n",
      "\n",
      "           0       0.81      0.79      0.80       144\n",
      "           1       0.81      0.83      0.82       156\n",
      "\n",
      "   micro avg       0.81      0.81      0.81       300\n",
      "   macro avg       0.81      0.81      0.81       300\n",
      "weighted avg       0.81      0.81      0.81       300\n",
      "\n",
      "[[114  30]\n",
      " [ 26 130]]\n"
     ]
    }
   ],
   "source": [
    "#Import libaries\n",
    "import pandas as pd\n",
    "import nltk\n",
    "#nltk.download_shell()\n",
    "from nltk.corpus import stopwords\n",
    "from nltk.stem.porter import PorterStemmer\n",
    "import re\n",
    "\n",
    "\n",
    "#Load the data\n",
    "reviews = pd.read_csv('Data/Restaurant_Reviews.tsv', sep='\\t')\n",
    "\n",
    "#Helper Function\n",
    "def process_text(sentences):\n",
    "    \"\"\"\n",
    "    -Split the sentence and remove punctuations by looking at each character\n",
    "    -Remove the common words(the, a, is) and apply stemming(removes same words(liked, like))\n",
    "    -Join the words back to form the original sentance \n",
    "    -Add the the full sentance to the corpus, which is an array\n",
    "    -Convert corput to the list and return the clean version\n",
    "    \"\"\"\n",
    "    corpus = []\n",
    "    ps = PorterStemmer()\n",
    "    for sentence in sentences:\n",
    "        texts = re.sub('[^a-zA-Z]',' ', sentence).split()\n",
    "        texts = [ps.stem(word) for word in texts if not word.lower() in set(stopwords.words('english'))]\n",
    "        join_words = ' '.join(texts)\n",
    "        corpus.append(join_words)\n",
    "    corpus_tolist = list(corpus)\n",
    "    return corpus_tolist\n",
    "        \n",
    "#Clean the sentences       \n",
    "clean_list = process_text(reviews['Review'])\n",
    " \n",
    "#Bag of words model\n",
    "from sklearn.feature_extraction.text import CountVectorizer\n",
    "cv = CountVectorizer()\n",
    "cv_bag_of_words = cv.fit_transform(clean_list)\n",
    "\n",
    "from sklearn.feature_extraction.text import TfidfTransformer\n",
    "tfidf = TfidfTransformer()\n",
    "bag_of_words = tfidf.fit_transform(cv_bag_of_words)\n",
    "\n",
    "\n",
    "X = pd.DataFrame(bag_of_words.toarray(), columns=cv.get_feature_names())\n",
    "y = reviews['Liked']\n",
    "\n",
    "#Split the data\n",
    "from sklearn.model_selection import train_test_split\n",
    "X_train, X_test,y_train,y_test = train_test_split(X,y,test_size=0.3)\n",
    "\n",
    "#Selecting the model\n",
    "from sklearn.naive_bayes import MultinomialNB\n",
    "mnb = MultinomialNB()\n",
    "\n",
    "#Fit the model\n",
    "mnb.fit(X_train,y_train)\n",
    "\n",
    "#Make predictions with the pipeline\n",
    "predictions = mnb.predict(X_test)\n",
    "\n",
    "#Evaluation the model\n",
    "from sklearn.metrics import classification_report, confusion_matrix\n",
    "print (classification_report(y_test, predictions))\n",
    "print (confusion_matrix(y_test, predictions))"
   ]
  }
 ],
 "metadata": {
  "kernelspec": {
   "display_name": "Python 3",
   "language": "python",
   "name": "python3"
  },
  "language_info": {
   "codemirror_mode": {
    "name": "ipython",
    "version": 3
   },
   "file_extension": ".py",
   "mimetype": "text/x-python",
   "name": "python",
   "nbconvert_exporter": "python",
   "pygments_lexer": "ipython3",
   "version": "3.6.7"
  }
 },
 "nbformat": 4,
 "nbformat_minor": 2
}
